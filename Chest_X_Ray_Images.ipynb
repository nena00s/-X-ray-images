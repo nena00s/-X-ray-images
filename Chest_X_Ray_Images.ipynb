{
  "metadata": {
    "kernelspec": {
      "language": "python",
      "display_name": "Python 3",
      "name": "python3"
    },
    "language_info": {
      "pygments_lexer": "ipython3",
      "nbconvert_exporter": "python",
      "version": "3.6.4",
      "file_extension": ".py",
      "codemirror_mode": {
        "name": "ipython",
        "version": 3
      },
      "name": "python",
      "mimetype": "text/x-python"
    },
    "colab": {
      "provenance": [],
      "include_colab_link": true
    }
  },
  "nbformat_minor": 0,
  "nbformat": 4,
  "cells": [
    {
      "cell_type": "markdown",
      "metadata": {
        "id": "view-in-github",
        "colab_type": "text"
      },
      "source": [
        "<a href=\"https://colab.research.google.com/github/nena00s/-X-ray-images/blob/main/Chest_X_Ray_Images.ipynb\" target=\"_parent\"><img src=\"https://colab.research.google.com/assets/colab-badge.svg\" alt=\"Open In Colab\"/></a>"
      ]
    },
    {
      "source": [
        "\n",
        "# IMPORTANT: RUN THIS CELL IN ORDER TO IMPORT YOUR KAGGLE DATA SOURCES\n",
        "# TO THE CORRECT LOCATION (/kaggle/input) IN YOUR NOTEBOOK,\n",
        "# THEN FEEL FREE TO DELETE THIS CELL.\n",
        "# NOTE: THIS NOTEBOOK ENVIRONMENT DIFFERS FROM KAGGLE'S PYTHON\n",
        "# ENVIRONMENT SO THERE MAY BE MISSING LIBRARIES USED BY YOUR\n",
        "# NOTEBOOK.\n",
        "\n",
        "import os\n",
        "import sys\n",
        "from tempfile import NamedTemporaryFile\n",
        "from urllib.request import urlopen\n",
        "from urllib.parse import unquote, urlparse\n",
        "from urllib.error import HTTPError\n",
        "from zipfile import ZipFile\n",
        "import tarfile\n",
        "import shutil\n",
        "\n",
        "CHUNK_SIZE = 40960\n",
        "DATA_SOURCE_MAPPING = 'chest-xray-pneumonia:https%3A%2F%2Fstorage.googleapis.com%2Fkaggle-data-sets%2F17810%2F23812%2Fbundle%2Farchive.zip%3FX-Goog-Algorithm%3DGOOG4-RSA-SHA256%26X-Goog-Credential%3Dgcp-kaggle-com%2540kaggle-161607.iam.gserviceaccount.com%252F20240425%252Fauto%252Fstorage%252Fgoog4_request%26X-Goog-Date%3D20240425T030721Z%26X-Goog-Expires%3D259200%26X-Goog-SignedHeaders%3Dhost%26X-Goog-Signature%3D43d043231ee996d4d244111aa53da4be1a87bb1da73d07b61b576c46d7feef5a05b5d49f2ec3b8cc6bd6a9d18dc4627f4aacc092e540b310c593d986cfcb6c03d88de7821fe8a2e649384f74d44d8c0921c305d0c4a858e1d328038f663f2e2eacfa5f458cfb3352299bc9f8e9cffad78ae14764dbf5a4c36dc65590fdff5908e0b1fff55d26f930361863fc291b72acffc3e0453103ae48174e3f7accad2b74f996f1800c42479040423e9ecf5d709a8a3502b8d987393d25cc8731f7bb101399c004e6b246606ea71bb145b7c4ebd0252c16e03e86ac5c917aac42c760d8bdbd4d128a263b2dbdd2af8e471d9e1f703223230f5b536b0d3639459108c09495'\n",
        "\n",
        "KAGGLE_INPUT_PATH='/kaggle/input'\n",
        "KAGGLE_WORKING_PATH='/kaggle/working'\n",
        "KAGGLE_SYMLINK='kaggle'\n",
        "\n",
        "!umount /kaggle/input/ 2> /dev/null\n",
        "shutil.rmtree('/kaggle/input', ignore_errors=True)\n",
        "os.makedirs(KAGGLE_INPUT_PATH, 0o777, exist_ok=True)\n",
        "os.makedirs(KAGGLE_WORKING_PATH, 0o777, exist_ok=True)\n",
        "\n",
        "try:\n",
        "  os.symlink(KAGGLE_INPUT_PATH, os.path.join(\"..\", 'input'), target_is_directory=True)\n",
        "except FileExistsError:\n",
        "  pass\n",
        "try:\n",
        "  os.symlink(KAGGLE_WORKING_PATH, os.path.join(\"..\", 'working'), target_is_directory=True)\n",
        "except FileExistsError:\n",
        "  pass\n",
        "\n",
        "for data_source_mapping in DATA_SOURCE_MAPPING.split(','):\n",
        "    directory, download_url_encoded = data_source_mapping.split(':')\n",
        "    download_url = unquote(download_url_encoded)\n",
        "    filename = urlparse(download_url).path\n",
        "    destination_path = os.path.join(KAGGLE_INPUT_PATH, directory)\n",
        "    try:\n",
        "        with urlopen(download_url) as fileres, NamedTemporaryFile() as tfile:\n",
        "            total_length = fileres.headers['content-length']\n",
        "            print(f'Downloading {directory}, {total_length} bytes compressed')\n",
        "            dl = 0\n",
        "            data = fileres.read(CHUNK_SIZE)\n",
        "            while len(data) > 0:\n",
        "                dl += len(data)\n",
        "                tfile.write(data)\n",
        "                done = int(50 * dl / int(total_length))\n",
        "                sys.stdout.write(f\"\\r[{'=' * done}{' ' * (50-done)}] {dl} bytes downloaded\")\n",
        "                sys.stdout.flush()\n",
        "                data = fileres.read(CHUNK_SIZE)\n",
        "            if filename.endswith('.zip'):\n",
        "              with ZipFile(tfile) as zfile:\n",
        "                zfile.extractall(destination_path)\n",
        "            else:\n",
        "              with tarfile.open(tfile.name) as tarfile:\n",
        "                tarfile.extractall(destination_path)\n",
        "            print(f'\\nDownloaded and uncompressed: {directory}')\n",
        "    except HTTPError as e:\n",
        "        print(f'Failed to load (likely expired) {download_url} to path {destination_path}')\n",
        "        continue\n",
        "    except OSError as e:\n",
        "        print(f'Failed to load {download_url} to path {destination_path}')\n",
        "        continue\n",
        "\n",
        "print('Data source import complete.')\n"
      ],
      "metadata": {
        "id": "pOfabzi2ONrP"
      },
      "cell_type": "code",
      "outputs": [],
      "execution_count": null
    },
    {
      "cell_type": "markdown",
      "source": [
        "<center>\n",
        "  <h1 style=\"background-color:red; color:white; font-size:40px; font-weight:bold; font-family:Times New Roman; border:3px solid black;\">Pneumonia</h1>\n",
        "</center>"
      ],
      "metadata": {
        "id": "fANgwlgzONrc"
      }
    },
    {
      "cell_type": "markdown",
      "source": [
        "# <div style= \"font-family: Cambria; font-weight:bold; letter-spacing: 0px; color:#ffffff; font-size:120%; text-align:left;padding:3.0px; background: #003380; border: 10px solid #80ffff\"> TABLE OF CONTENTS<br><div>  \n",
        "\n",
        "* [Import Libraries](#0)\n",
        "* [Read Data](#1)\n",
        "* [CNN Model](#2)\n",
        "* [CNN Model Check](#3)\n",
        "* [Transfer Learning Model](#4)\n",
        "* [Transfer Learning Model Check](#5)"
      ],
      "metadata": {
        "id": "tJ__n8GYONrj"
      }
    },
    {
      "cell_type": "markdown",
      "source": [
        "<a id=\"0.1\"></a>\n",
        "## <div style= \"font-family: Cambria; font-weight:bold; letter-spacing: 0px; color:#ffffff; font-size:120%; text-align:left;padding:3.0px; background: #0059b3; border-bottom: 8px solid #e6e6e6\" >Import Libraries<br><div>\n"
      ],
      "metadata": {
        "id": "0EoM59IBONrl"
      }
    },
    {
      "cell_type": "code",
      "source": [
        "import os\n",
        "import cv2\n",
        "from tqdm import tqdm\n",
        "import pandas as pd\n",
        "import matplotlib.pyplot as plt\n",
        "import numpy as np\n",
        "import keras\n",
        "from keras.callbacks import EarlyStopping,ModelCheckpoint\n",
        "import tensorflow as tf\n",
        "from sklearn.metrics import confusion_matrix\n",
        "import seaborn as sns\n",
        "from sklearn.metrics import classification_report\n",
        "from sklearn.model_selection import train_test_split\n",
        "from sklearn.preprocessing import LabelEncoder\n",
        "import warnings\n",
        "warnings.filterwarnings('ignore')"
      ],
      "metadata": {
        "execution": {
          "iopub.status.busy": "2023-08-24T21:39:48.248742Z",
          "iopub.execute_input": "2023-08-24T21:39:48.249198Z",
          "iopub.status.idle": "2023-08-24T21:39:48.257202Z",
          "shell.execute_reply.started": "2023-08-24T21:39:48.249158Z",
          "shell.execute_reply": "2023-08-24T21:39:48.255795Z"
        },
        "trusted": true,
        "id": "POacsxNDONrn"
      },
      "execution_count": null,
      "outputs": []
    },
    {
      "cell_type": "markdown",
      "source": [
        "<a id=\"0.1\"></a>\n",
        "## <div style= \"font-family: Cambria; font-weight:bold; letter-spacing: 0px; color:#ffffff; font-size:120%; text-align:left;padding:3.0px; background: #0059b3; border-bottom: 8px solid #e6e6e6\" >Read Data<br><div>\n"
      ],
      "metadata": {
        "id": "_RkbHGdAONrn"
      }
    },
    {
      "cell_type": "code",
      "source": [
        "#Files\n",
        "path='/kaggle/input/chest-xray-pneumonia/chest_xray'\n",
        "pd.DataFrame(os.listdir(path),columns=['Files'])"
      ],
      "metadata": {
        "execution": {
          "iopub.status.busy": "2023-08-24T21:32:31.317845Z",
          "iopub.execute_input": "2023-08-24T21:32:31.318614Z",
          "iopub.status.idle": "2023-08-24T21:32:31.336668Z",
          "shell.execute_reply.started": "2023-08-24T21:32:31.31857Z",
          "shell.execute_reply": "2023-08-24T21:32:31.334608Z"
        },
        "trusted": true,
        "id": "v5eYgKmtONrp"
      },
      "execution_count": null,
      "outputs": []
    },
    {
      "cell_type": "code",
      "source": [
        "#The Image Count In Folders\n",
        "dict_={'train':[],'test':[],'val':[]}\n",
        "for i in tqdm(['train','test','val']):\n",
        "    path_=os.path.join(path,i)\n",
        "    for j in os.listdir(path_):\n",
        "        dict_[i].append(len(os.listdir(os.path.join(path_,j))))\n",
        "pd.DataFrame(dict_,index=os.listdir(path_))"
      ],
      "metadata": {
        "execution": {
          "iopub.status.busy": "2023-08-24T21:32:32.967691Z",
          "iopub.execute_input": "2023-08-24T21:32:32.968584Z",
          "iopub.status.idle": "2023-08-24T21:32:33.00009Z",
          "shell.execute_reply.started": "2023-08-24T21:32:32.968544Z",
          "shell.execute_reply": "2023-08-24T21:32:32.998982Z"
        },
        "trusted": true,
        "id": "CWbTyh6QONrq"
      },
      "execution_count": null,
      "outputs": []
    },
    {
      "cell_type": "code",
      "source": [
        "#Size\n",
        "def Size(folder):\n",
        "    size=[]\n",
        "    path_=os.path.join(path,folder)\n",
        "    for i in tqdm(os.listdir(path_)):\n",
        "        path2=os.path.join(path_,i)\n",
        "        for j in os.listdir(path2):\n",
        "            img=cv2.imread(os.path.join(path2,j))\n",
        "            size.append(img.shape)\n",
        "    return pd.Series(size)"
      ],
      "metadata": {
        "execution": {
          "iopub.status.busy": "2023-08-24T21:32:35.712316Z",
          "iopub.execute_input": "2023-08-24T21:32:35.713578Z",
          "iopub.status.idle": "2023-08-24T21:32:35.722012Z",
          "shell.execute_reply.started": "2023-08-24T21:32:35.71353Z",
          "shell.execute_reply": "2023-08-24T21:32:35.720767Z"
        },
        "trusted": true,
        "id": "WUn3rUSyONrr"
      },
      "execution_count": null,
      "outputs": []
    },
    {
      "cell_type": "code",
      "source": [
        "#train\n",
        "Size('train')"
      ],
      "metadata": {
        "execution": {
          "iopub.status.busy": "2023-08-24T21:32:37.940798Z",
          "iopub.execute_input": "2023-08-24T21:32:37.941888Z",
          "iopub.status.idle": "2023-08-24T21:34:02.335817Z",
          "shell.execute_reply.started": "2023-08-24T21:32:37.941832Z",
          "shell.execute_reply": "2023-08-24T21:34:02.334541Z"
        },
        "trusted": true,
        "id": "H17Eb4fmONrt"
      },
      "execution_count": null,
      "outputs": []
    },
    {
      "cell_type": "code",
      "source": [
        "#test\n",
        "Size('test')"
      ],
      "metadata": {
        "execution": {
          "iopub.status.busy": "2023-08-24T21:34:02.338194Z",
          "iopub.execute_input": "2023-08-24T21:34:02.338679Z",
          "iopub.status.idle": "2023-08-24T21:34:10.865136Z",
          "shell.execute_reply.started": "2023-08-24T21:34:02.338638Z",
          "shell.execute_reply": "2023-08-24T21:34:10.864065Z"
        },
        "trusted": true,
        "id": "M2yC9vsjONrt"
      },
      "execution_count": null,
      "outputs": []
    },
    {
      "cell_type": "code",
      "source": [
        "#val\n",
        "Size('val')"
      ],
      "metadata": {
        "execution": {
          "iopub.status.busy": "2023-08-24T21:34:10.866931Z",
          "iopub.execute_input": "2023-08-24T21:34:10.867769Z",
          "iopub.status.idle": "2023-08-24T21:34:11.172127Z",
          "shell.execute_reply.started": "2023-08-24T21:34:10.867721Z",
          "shell.execute_reply": "2023-08-24T21:34:11.171013Z"
        },
        "trusted": true,
        "id": "Sd79vaF-ONru"
      },
      "execution_count": null,
      "outputs": []
    },
    {
      "cell_type": "code",
      "source": [
        "Size=80\n",
        "images=[]\n",
        "labels=[]\n",
        "def load():\n",
        "    global images\n",
        "    global labels\n",
        "    for folder in tqdm(['train','test','val']):\n",
        "        path_=os.path.join(path,folder)\n",
        "        for files in os.listdir(path_):\n",
        "            path2=os.path.join(path_,files)\n",
        "            for img in os.listdir(path2):\n",
        "                image=cv2.imread(os.path.join(path2,img))\n",
        "                image=cv2.cvtColor(image,cv2.COLOR_BGR2RGB)\n",
        "                image=cv2.resize(image,(Size,Size))\n",
        "                image=image/255.0\n",
        "                images.append(image)\n",
        "                labels.append(files)\n",
        "load()\n",
        "images=np.array(images)\n",
        "labels=np.array(labels)"
      ],
      "metadata": {
        "execution": {
          "iopub.status.busy": "2023-08-24T21:34:11.175084Z",
          "iopub.execute_input": "2023-08-24T21:34:11.176308Z",
          "iopub.status.idle": "2023-08-24T21:35:44.332736Z",
          "shell.execute_reply.started": "2023-08-24T21:34:11.176264Z",
          "shell.execute_reply": "2023-08-24T21:35:44.33112Z"
        },
        "trusted": true,
        "id": "bcycfh7UONrv"
      },
      "execution_count": null,
      "outputs": []
    },
    {
      "cell_type": "code",
      "source": [
        "print('Images Shape :',images.shape)\n",
        "print('Labels Shape :',labels.shape)"
      ],
      "metadata": {
        "execution": {
          "iopub.status.busy": "2023-08-24T21:38:49.27598Z",
          "iopub.execute_input": "2023-08-24T21:38:49.276405Z",
          "iopub.status.idle": "2023-08-24T21:38:49.282601Z",
          "shell.execute_reply.started": "2023-08-24T21:38:49.276371Z",
          "shell.execute_reply": "2023-08-24T21:38:49.281375Z"
        },
        "trusted": true,
        "id": "Eb0mpKyiONrv"
      },
      "execution_count": null,
      "outputs": []
    },
    {
      "cell_type": "code",
      "source": [
        "labels[0]"
      ],
      "metadata": {
        "execution": {
          "iopub.status.busy": "2023-08-24T21:39:17.191389Z",
          "iopub.execute_input": "2023-08-24T21:39:17.191783Z",
          "iopub.status.idle": "2023-08-24T21:39:17.19888Z",
          "shell.execute_reply.started": "2023-08-24T21:39:17.191749Z",
          "shell.execute_reply": "2023-08-24T21:39:17.19774Z"
        },
        "trusted": true,
        "id": "zFZGRH_HONrw"
      },
      "execution_count": null,
      "outputs": []
    },
    {
      "cell_type": "code",
      "source": [
        "#Show\n",
        "plt.figure(figsize=(25,25))\n",
        "x = 1\n",
        "for i in np.random.randint(0,len(images),50):\n",
        "    plt.subplot(10, 5, x)\n",
        "    plt.imshow(images[i])\n",
        "    plt.title(f'Label {labels[i]}', fontsize=20)\n",
        "    plt.axis('off')\n",
        "    x += 1"
      ],
      "metadata": {
        "execution": {
          "iopub.status.busy": "2023-08-24T21:37:54.56247Z",
          "iopub.execute_input": "2023-08-24T21:37:54.562908Z",
          "iopub.status.idle": "2023-08-24T21:37:59.349255Z",
          "shell.execute_reply.started": "2023-08-24T21:37:54.562873Z",
          "shell.execute_reply": "2023-08-24T21:37:59.348139Z"
        },
        "trusted": true,
        "id": "aZMRk8uJONrw"
      },
      "execution_count": null,
      "outputs": []
    },
    {
      "cell_type": "code",
      "source": [
        "label=LabelEncoder()\n",
        "labels=label.fit_transform(labels)\n",
        "labels"
      ],
      "metadata": {
        "execution": {
          "iopub.status.busy": "2023-08-24T21:40:37.286211Z",
          "iopub.execute_input": "2023-08-24T21:40:37.286605Z",
          "iopub.status.idle": "2023-08-24T21:40:37.296855Z",
          "shell.execute_reply.started": "2023-08-24T21:40:37.286571Z",
          "shell.execute_reply": "2023-08-24T21:40:37.295445Z"
        },
        "trusted": true,
        "id": "6w5bwOILONrz"
      },
      "execution_count": null,
      "outputs": []
    },
    {
      "cell_type": "code",
      "source": [
        "X_train, X_test2, y_train, y_test2 = train_test_split(images, labels, test_size=0.30, random_state=44, shuffle =True)\n",
        "X_val, X_test, y_val, y_test = train_test_split(X_test2, y_test2, test_size=0.50, random_state=44, shuffle =True)\n",
        "print('X_train shape is ' , X_train.shape)\n",
        "print('X_val shape is ' , X_val.shape)\n",
        "print('X_test shape is ' , X_test.shape)\n",
        "print('y_train shape is ' , y_train.shape)\n",
        "print('y_val shape is ' , y_val.shape)\n",
        "print('y_test shape is ' , y_test.shape)"
      ],
      "metadata": {
        "execution": {
          "iopub.status.busy": "2023-08-24T21:43:57.793981Z",
          "iopub.execute_input": "2023-08-24T21:43:57.794479Z",
          "iopub.status.idle": "2023-08-24T21:43:58.166539Z",
          "shell.execute_reply.started": "2023-08-24T21:43:57.794442Z",
          "shell.execute_reply": "2023-08-24T21:43:58.165465Z"
        },
        "trusted": true,
        "id": "kDX-8mOGONrz"
      },
      "execution_count": null,
      "outputs": []
    },
    {
      "cell_type": "markdown",
      "source": [
        "<a id=\"0.1\"></a>\n",
        "## <div style= \"font-family: Cambria; font-weight:bold; letter-spacing: 0px; color:#ffffff; font-size:120%; text-align:left;padding:3.0px; background: #0059b3; border-bottom: 8px solid #e6e6e6\" >CNN Model<br><div>\n"
      ],
      "metadata": {
        "id": "6VtnaI1cONrz"
      }
    },
    {
      "cell_type": "code",
      "source": [
        "class_num=1\n",
        "model=keras.models.Sequential()\n",
        "model.add(keras.layers.Conv2D(filters=32, kernel_size=(3,3),activation=tf.nn.relu,input_shape=(Size,Size,3)))\n",
        "model.add(keras.layers.BatchNormalization())\n",
        "model.add(keras.layers.MaxPool2D((3,3)))\n",
        "model.add(keras.layers.Conv2D(filters=64, kernel_size=(3,3),activation=tf.nn.relu))\n",
        "model.add(keras.layers.BatchNormalization())\n",
        "model.add(keras.layers.MaxPool2D((2,2)))\n",
        "model.add(keras.layers.Dropout(.3))\n",
        "model.add(keras.layers.Conv2D(filters=128, kernel_size=(3,3),activation=tf.nn.relu))\n",
        "model.add(keras.layers.BatchNormalization())\n",
        "model.add(keras.layers.MaxPool2D((2,2)))\n",
        "model.add(keras.layers.Dropout(.3))\n",
        "model.add(keras.layers.Flatten())\n",
        "model.add(keras.layers.Dense(256,activation=tf.nn.relu))\n",
        "model.add(keras.layers.Dropout(.3))\n",
        "model.add(keras.layers.Dense(128,activation=tf.nn.relu))\n",
        "model.add(keras.layers.Dropout(.3))\n",
        "model.add(keras.layers.Dense(class_num,activation=tf.nn.sigmoid))"
      ],
      "metadata": {
        "execution": {
          "iopub.status.busy": "2023-08-24T22:06:56.345059Z",
          "iopub.execute_input": "2023-08-24T22:06:56.345484Z",
          "iopub.status.idle": "2023-08-24T22:06:56.506825Z",
          "shell.execute_reply.started": "2023-08-24T22:06:56.34545Z",
          "shell.execute_reply": "2023-08-24T22:06:56.50571Z"
        },
        "trusted": true,
        "id": "fgdfG8hNONr0"
      },
      "execution_count": null,
      "outputs": []
    },
    {
      "cell_type": "code",
      "source": [
        "model.summary()"
      ],
      "metadata": {
        "execution": {
          "iopub.status.busy": "2023-08-24T21:47:58.272099Z",
          "iopub.execute_input": "2023-08-24T21:47:58.272628Z",
          "iopub.status.idle": "2023-08-24T21:47:58.320189Z",
          "shell.execute_reply.started": "2023-08-24T21:47:58.272591Z",
          "shell.execute_reply": "2023-08-24T21:47:58.319334Z"
        },
        "trusted": true,
        "id": "0_VJwyijONr0"
      },
      "execution_count": null,
      "outputs": []
    },
    {
      "cell_type": "code",
      "source": [
        "tf.keras.utils.plot_model(model, to_file='model.png', show_shapes=True, show_layer_names=True,show_dtype=True,dpi=120)"
      ],
      "metadata": {
        "execution": {
          "iopub.status.busy": "2023-08-24T21:48:03.396946Z",
          "iopub.execute_input": "2023-08-24T21:48:03.397436Z",
          "iopub.status.idle": "2023-08-24T21:48:03.658908Z",
          "shell.execute_reply.started": "2023-08-24T21:48:03.397402Z",
          "shell.execute_reply": "2023-08-24T21:48:03.657917Z"
        },
        "trusted": true,
        "id": "Iicv8VzQONr1"
      },
      "execution_count": null,
      "outputs": []
    },
    {
      "cell_type": "code",
      "source": [
        "checkpoint_cb =ModelCheckpoint(\"my_keras_model.h5\", save_best_only=True)\n",
        "early_stopping_cb =EarlyStopping(patience=5, restore_best_weights=True)\n",
        "model.compile(optimizer ='adam', loss='binary_crossentropy', metrics=['accuracy'])\n",
        "hist=model.fit(X_train,y_train,epochs=10,validation_data=(X_val,y_val),callbacks=[checkpoint_cb,early_stopping_cb])"
      ],
      "metadata": {
        "execution": {
          "iopub.status.busy": "2023-08-24T22:07:02.183522Z",
          "iopub.execute_input": "2023-08-24T22:07:02.184522Z",
          "iopub.status.idle": "2023-08-24T22:07:46.318491Z",
          "shell.execute_reply.started": "2023-08-24T22:07:02.184439Z",
          "shell.execute_reply": "2023-08-24T22:07:46.317267Z"
        },
        "trusted": true,
        "id": "bpNVRzT5ONr1"
      },
      "execution_count": null,
      "outputs": []
    },
    {
      "cell_type": "code",
      "source": [
        "score, acc = model.evaluate(X_test,y_test)\n",
        "print('Test Loss =', score)\n",
        "print('Test Accuracy =', acc)"
      ],
      "metadata": {
        "execution": {
          "iopub.status.busy": "2023-08-24T22:07:46.320963Z",
          "iopub.execute_input": "2023-08-24T22:07:46.321705Z",
          "iopub.status.idle": "2023-08-24T22:07:46.71593Z",
          "shell.execute_reply.started": "2023-08-24T22:07:46.321663Z",
          "shell.execute_reply": "2023-08-24T22:07:46.714682Z"
        },
        "trusted": true,
        "id": "1jj1tZ6JONr1"
      },
      "execution_count": null,
      "outputs": []
    },
    {
      "cell_type": "code",
      "source": [
        "hist_=pd.DataFrame(hist.history)\n",
        "hist_"
      ],
      "metadata": {
        "execution": {
          "iopub.status.busy": "2023-08-24T22:07:46.717974Z",
          "iopub.execute_input": "2023-08-24T22:07:46.718446Z",
          "iopub.status.idle": "2023-08-24T22:07:46.734721Z",
          "shell.execute_reply.started": "2023-08-24T22:07:46.718402Z",
          "shell.execute_reply": "2023-08-24T22:07:46.733256Z"
        },
        "trusted": true,
        "id": "1OYFqUhOONr1"
      },
      "execution_count": null,
      "outputs": []
    },
    {
      "cell_type": "code",
      "source": [
        "plt.figure(figsize=(15,5))\n",
        "plt.subplot(1,2,1)\n",
        "plt.plot(hist_['loss'],label='Train_Loss')\n",
        "plt.plot(hist_['val_loss'],label='Validation_Loss')\n",
        "plt.title('Train_Loss & Validation_Loss',fontsize=20)\n",
        "plt.legend()\n",
        "plt.subplot(1,2,2)\n",
        "plt.plot(hist_['accuracy'],label='Train_Accuracy')\n",
        "plt.plot(hist_['val_accuracy'],label='Validation_Accuracy')\n",
        "plt.title('Train_Accuracy & Validation_Accuracy',fontsize=20)\n",
        "plt.legend()"
      ],
      "metadata": {
        "execution": {
          "iopub.status.busy": "2023-08-24T22:07:46.739121Z",
          "iopub.execute_input": "2023-08-24T22:07:46.739562Z",
          "iopub.status.idle": "2023-08-24T22:07:47.509988Z",
          "shell.execute_reply.started": "2023-08-24T22:07:46.739521Z",
          "shell.execute_reply": "2023-08-24T22:07:47.508932Z"
        },
        "trusted": true,
        "id": "6Lc_oOS8ONr2"
      },
      "execution_count": null,
      "outputs": []
    },
    {
      "cell_type": "code",
      "source": [
        "prediction = model.predict(X_test)\n",
        "prediction[0]"
      ],
      "metadata": {
        "execution": {
          "iopub.status.busy": "2023-08-24T22:07:47.511656Z",
          "iopub.execute_input": "2023-08-24T22:07:47.514865Z",
          "iopub.status.idle": "2023-08-24T22:07:47.995275Z",
          "shell.execute_reply.started": "2023-08-24T22:07:47.514811Z",
          "shell.execute_reply": "2023-08-24T22:07:47.994029Z"
        },
        "trusted": true,
        "id": "T-UWbYrNONr2"
      },
      "execution_count": null,
      "outputs": []
    },
    {
      "cell_type": "code",
      "source": [
        "y_pred=np.where(prediction>=.5,1,0)\n",
        "df=pd.DataFrame()\n",
        "df['Actual'],df['Prediction']=label.inverse_transform(y_test),label.inverse_transform(y_pred)\n",
        "df"
      ],
      "metadata": {
        "execution": {
          "iopub.status.busy": "2023-08-24T22:07:47.997368Z",
          "iopub.execute_input": "2023-08-24T22:07:47.99776Z",
          "iopub.status.idle": "2023-08-24T22:07:48.018737Z",
          "shell.execute_reply.started": "2023-08-24T22:07:47.99772Z",
          "shell.execute_reply": "2023-08-24T22:07:48.0168Z"
        },
        "trusted": true,
        "id": "BLkOzEIOONr2"
      },
      "execution_count": null,
      "outputs": []
    },
    {
      "cell_type": "code",
      "source": [
        "#Show\n",
        "y_test2=label.inverse_transform(y_test)\n",
        "y_pred2=label.inverse_transform(y_pred)\n",
        "plt.figure(figsize=(35,35))\n",
        "x = 1\n",
        "for i in np.random.randint(0,len(X_test),50):\n",
        "    plt.subplot(10, 5, x)\n",
        "    plt.imshow(X_test[i])\n",
        "    plt.title(f'Label {y_test2[i]} Predict {y_pred2[i]}', fontsize=15)\n",
        "    plt.axis('off')\n",
        "    x += 1"
      ],
      "metadata": {
        "execution": {
          "iopub.status.busy": "2023-08-24T22:07:48.020538Z",
          "iopub.execute_input": "2023-08-24T22:07:48.020978Z",
          "iopub.status.idle": "2023-08-24T22:07:55.585333Z",
          "shell.execute_reply.started": "2023-08-24T22:07:48.02093Z",
          "shell.execute_reply": "2023-08-24T22:07:55.584288Z"
        },
        "trusted": true,
        "id": "Zlmkn4xsONr3"
      },
      "execution_count": null,
      "outputs": []
    },
    {
      "cell_type": "markdown",
      "source": [
        "<a id=\"0.1\"></a>\n",
        "## <div style= \"font-family: Cambria; font-weight:bold; letter-spacing: 0px; color:#ffffff; font-size:120%; text-align:left;padding:3.0px; background: #0059b3; border-bottom: 8px solid #e6e6e6\" >CNN Model Check<br><div>\n"
      ],
      "metadata": {
        "id": "dgtilWynONr3"
      }
    },
    {
      "cell_type": "code",
      "source": [
        "ax= plt.subplot()\n",
        "CM = confusion_matrix(y_test,y_pred)\n",
        "sns.heatmap(CM, annot=True, fmt='g', ax=ax,cbar=False,cmap='RdBu')\n",
        "ax.set_xlabel('Predicted labels')\n",
        "ax.set_ylabel('True labels')\n",
        "ax.set_title('Confusion Matrix')\n",
        "plt.show()\n",
        "CM"
      ],
      "metadata": {
        "execution": {
          "iopub.status.busy": "2023-08-24T22:07:55.586808Z",
          "iopub.execute_input": "2023-08-24T22:07:55.587893Z",
          "iopub.status.idle": "2023-08-24T22:07:55.798659Z",
          "shell.execute_reply.started": "2023-08-24T22:07:55.58785Z",
          "shell.execute_reply": "2023-08-24T22:07:55.797346Z"
        },
        "trusted": true,
        "id": "TQqi6ao7ONr3"
      },
      "execution_count": null,
      "outputs": []
    },
    {
      "cell_type": "code",
      "source": [
        "ClassificationReport = classification_report(y_test,y_pred)\n",
        "print('Classification Report is : ', ClassificationReport )"
      ],
      "metadata": {
        "execution": {
          "iopub.status.busy": "2023-08-24T22:07:55.800603Z",
          "iopub.execute_input": "2023-08-24T22:07:55.801359Z",
          "iopub.status.idle": "2023-08-24T22:07:55.820422Z",
          "shell.execute_reply.started": "2023-08-24T22:07:55.801311Z",
          "shell.execute_reply": "2023-08-24T22:07:55.819166Z"
        },
        "trusted": true,
        "id": "BojB3Q64ONr4"
      },
      "execution_count": null,
      "outputs": []
    },
    {
      "cell_type": "markdown",
      "source": [
        "<a id=\"0.1\"></a>\n",
        "## <div style= \"font-family: Cambria; font-weight:bold; letter-spacing: 0px; color:#ffffff; font-size:120%; text-align:left;padding:3.0px; background: #0059b3; border-bottom: 8px solid #e6e6e6\" >Transfer Learning Model<br><div>"
      ],
      "metadata": {
        "id": "p3fmEh-2ONr5"
      }
    },
    {
      "cell_type": "code",
      "source": [
        "base_model = tf.keras.applications.VGG16(input_shape=(Size,Size,3),include_top=False,weights='imagenet')\n",
        "base_model.trainable = False\n",
        "model_tr=keras.models.Sequential()\n",
        "model_tr.add(base_model)\n",
        "model_tr.add(keras.layers.Flatten())\n",
        "model_tr.add(keras.layers.Dropout(.5))\n",
        "model_tr.add(keras.layers.Dense(1,activation=tf.nn.sigmoid))\n",
        "model_tr.summary()"
      ],
      "metadata": {
        "execution": {
          "iopub.status.busy": "2023-08-24T21:54:30.815975Z",
          "iopub.execute_input": "2023-08-24T21:54:30.816417Z",
          "iopub.status.idle": "2023-08-24T21:54:31.347559Z",
          "shell.execute_reply.started": "2023-08-24T21:54:30.816384Z",
          "shell.execute_reply": "2023-08-24T21:54:31.346693Z"
        },
        "trusted": true,
        "id": "s-x12YWqONr5"
      },
      "execution_count": null,
      "outputs": []
    },
    {
      "cell_type": "code",
      "source": [
        "tf.keras.utils.plot_model(model_tr, to_file='model.png', show_shapes=True, show_layer_names=True,show_dtype=True,dpi=120)"
      ],
      "metadata": {
        "execution": {
          "iopub.status.busy": "2023-08-24T22:08:18.822941Z",
          "iopub.execute_input": "2023-08-24T22:08:18.823777Z",
          "iopub.status.idle": "2023-08-24T22:08:18.920303Z",
          "shell.execute_reply.started": "2023-08-24T22:08:18.823718Z",
          "shell.execute_reply": "2023-08-24T22:08:18.919139Z"
        },
        "trusted": true,
        "id": "JpM_3ngbONr5"
      },
      "execution_count": null,
      "outputs": []
    },
    {
      "cell_type": "code",
      "source": [
        "checkpoint_cb =ModelCheckpoint(\"my_keras_model.h5\", save_best_only=True)\n",
        "early_stopping_cb =EarlyStopping(patience=5, restore_best_weights=True)\n",
        "model_tr.compile(optimizer ='adam', loss='binary_crossentropy', metrics=['accuracy'])\n",
        "hist=model_tr.fit(X_train,y_train,epochs=10,validation_data=(X_val,y_val),callbacks=[checkpoint_cb,early_stopping_cb])"
      ],
      "metadata": {
        "execution": {
          "iopub.status.busy": "2023-08-24T21:55:06.323773Z",
          "iopub.execute_input": "2023-08-24T21:55:06.324219Z",
          "iopub.status.idle": "2023-08-24T21:55:56.726905Z",
          "shell.execute_reply.started": "2023-08-24T21:55:06.324181Z",
          "shell.execute_reply": "2023-08-24T21:55:56.725652Z"
        },
        "trusted": true,
        "id": "aXpX5k0bONr6"
      },
      "execution_count": null,
      "outputs": []
    },
    {
      "cell_type": "code",
      "source": [
        "score, acc = model_tr.evaluate(X_test,y_test)\n",
        "print('Test Loss =', score)\n",
        "print('Test Accuracy =', acc)"
      ],
      "metadata": {
        "execution": {
          "iopub.status.busy": "2023-08-24T21:56:01.596676Z",
          "iopub.execute_input": "2023-08-24T21:56:01.598092Z",
          "iopub.status.idle": "2023-08-24T21:56:04.382277Z",
          "shell.execute_reply.started": "2023-08-24T21:56:01.598035Z",
          "shell.execute_reply": "2023-08-24T21:56:04.380937Z"
        },
        "trusted": true,
        "id": "_iNQGeLTONr6"
      },
      "execution_count": null,
      "outputs": []
    },
    {
      "cell_type": "code",
      "source": [
        "hist_=pd.DataFrame(hist.history)\n",
        "hist_"
      ],
      "metadata": {
        "execution": {
          "iopub.status.busy": "2023-08-24T21:56:06.68438Z",
          "iopub.execute_input": "2023-08-24T21:56:06.684792Z",
          "iopub.status.idle": "2023-08-24T21:56:06.703671Z",
          "shell.execute_reply.started": "2023-08-24T21:56:06.684756Z",
          "shell.execute_reply": "2023-08-24T21:56:06.702021Z"
        },
        "trusted": true,
        "id": "KZDuVf0RONr6"
      },
      "execution_count": null,
      "outputs": []
    },
    {
      "cell_type": "code",
      "source": [
        "plt.figure(figsize=(15,5))\n",
        "plt.subplot(1,2,1)\n",
        "plt.plot(hist_['loss'],label='Train_Loss')\n",
        "plt.plot(hist_['val_loss'],label='Validation_Loss')\n",
        "plt.title('Train_Loss & Validation_Loss',fontsize=20)\n",
        "plt.legend()\n",
        "plt.subplot(1,2,2)\n",
        "plt.plot(hist_['accuracy'],label='Train_Accuracy')\n",
        "plt.plot(hist_['val_accuracy'],label='Validation_Accuracy')\n",
        "plt.title('Train_Accuracy & Validation_Accuracy',fontsize=20)\n",
        "plt.legend()"
      ],
      "metadata": {
        "execution": {
          "iopub.status.busy": "2023-08-24T21:57:31.377782Z",
          "iopub.execute_input": "2023-08-24T21:57:31.378223Z",
          "iopub.status.idle": "2023-08-24T21:57:32.091952Z",
          "shell.execute_reply.started": "2023-08-24T21:57:31.378188Z",
          "shell.execute_reply": "2023-08-24T21:57:32.09068Z"
        },
        "trusted": true,
        "id": "BzeY-Bq1ONr7"
      },
      "execution_count": null,
      "outputs": []
    },
    {
      "cell_type": "code",
      "source": [
        "prediction = model_tr.predict(X_test)\n",
        "prediction[0]"
      ],
      "metadata": {
        "execution": {
          "iopub.status.busy": "2023-08-24T21:57:58.61719Z",
          "iopub.execute_input": "2023-08-24T21:57:58.617645Z",
          "iopub.status.idle": "2023-08-24T21:57:59.665388Z",
          "shell.execute_reply.started": "2023-08-24T21:57:58.617609Z",
          "shell.execute_reply": "2023-08-24T21:57:59.664017Z"
        },
        "trusted": true,
        "id": "90Fc4-MfONsA"
      },
      "execution_count": null,
      "outputs": []
    },
    {
      "cell_type": "code",
      "source": [
        "y_pred=np.where(prediction>=.5,1,0)\n",
        "df=pd.DataFrame()\n",
        "df['Actual'],df['Prediction']=label.inverse_transform(y_test),label.inverse_transform(y_pred)\n",
        "df"
      ],
      "metadata": {
        "execution": {
          "iopub.status.busy": "2023-08-24T21:58:24.098965Z",
          "iopub.execute_input": "2023-08-24T21:58:24.100054Z",
          "iopub.status.idle": "2023-08-24T21:58:24.121813Z",
          "shell.execute_reply.started": "2023-08-24T21:58:24.099973Z",
          "shell.execute_reply": "2023-08-24T21:58:24.120165Z"
        },
        "trusted": true,
        "id": "xoFo-VqYONsA"
      },
      "execution_count": null,
      "outputs": []
    },
    {
      "cell_type": "code",
      "source": [
        "#Show\n",
        "y_test2=label.inverse_transform(y_test)\n",
        "y_pred2=label.inverse_transform(y_pred)\n",
        "plt.figure(figsize=(35,35))\n",
        "x = 1\n",
        "for i in np.random.randint(0,len(X_test),50):\n",
        "    plt.subplot(10, 5, x)\n",
        "    plt.imshow(X_test[i])\n",
        "    plt.title(f'Label {y_test2[i]} Predict {y_pred2[i]}', fontsize=15)\n",
        "    plt.axis('off')\n",
        "    x += 1"
      ],
      "metadata": {
        "execution": {
          "iopub.status.busy": "2023-08-24T22:04:46.648716Z",
          "iopub.execute_input": "2023-08-24T22:04:46.649161Z",
          "iopub.status.idle": "2023-08-24T22:04:55.064586Z",
          "shell.execute_reply.started": "2023-08-24T22:04:46.649124Z",
          "shell.execute_reply": "2023-08-24T22:04:55.063516Z"
        },
        "trusted": true,
        "id": "ichBO8ViONsA"
      },
      "execution_count": null,
      "outputs": []
    },
    {
      "cell_type": "markdown",
      "source": [
        "<a id=\"0.1\"></a>\n",
        "## <div style= \"font-family: Cambria; font-weight:bold; letter-spacing: 0px; color:#ffffff; font-size:120%; text-align:left;padding:3.0px; background: #0059b3; border-bottom: 8px solid #e6e6e6\" >Transfer Learning Model Check<br><div>"
      ],
      "metadata": {
        "id": "EohI6y3OONsA"
      }
    },
    {
      "cell_type": "code",
      "source": [
        "ax= plt.subplot()\n",
        "CM = confusion_matrix(y_test,y_pred)\n",
        "sns.heatmap(CM, annot=True, fmt='g', ax=ax,cbar=False,cmap='RdBu')\n",
        "ax.set_xlabel('Predicted labels')\n",
        "ax.set_ylabel('True labels')\n",
        "ax.set_title('Confusion Matrix')\n",
        "plt.show()\n",
        "CM"
      ],
      "metadata": {
        "execution": {
          "iopub.status.busy": "2023-08-24T21:59:00.994603Z",
          "iopub.execute_input": "2023-08-24T21:59:00.995063Z",
          "iopub.status.idle": "2023-08-24T21:59:01.211079Z",
          "shell.execute_reply.started": "2023-08-24T21:59:00.994986Z",
          "shell.execute_reply": "2023-08-24T21:59:01.209763Z"
        },
        "trusted": true,
        "id": "Zsh1av2xONsB"
      },
      "execution_count": null,
      "outputs": []
    },
    {
      "cell_type": "code",
      "source": [
        "ClassificationReport = classification_report(y_test,y_pred)\n",
        "print('Classification Report is : ', ClassificationReport )"
      ],
      "metadata": {
        "execution": {
          "iopub.status.busy": "2023-08-24T21:59:05.226912Z",
          "iopub.execute_input": "2023-08-24T21:59:05.227384Z",
          "iopub.status.idle": "2023-08-24T21:59:05.246883Z",
          "shell.execute_reply.started": "2023-08-24T21:59:05.227349Z",
          "shell.execute_reply": "2023-08-24T21:59:05.245707Z"
        },
        "trusted": true,
        "id": "0crQQpO9ONsB"
      },
      "execution_count": null,
      "outputs": []
    },
    {
      "cell_type": "markdown",
      "source": [
        "<center>\n",
        "  <h1 style=\"background-color:red; color:white; font-size:40px; font-weight:bold; font-family:Times New Roman; border:3px solid black;\">Upvotes</h1>\n",
        "</center>"
      ],
      "metadata": {
        "id": "phUhgR2bONsB"
      }
    }
  ]
}